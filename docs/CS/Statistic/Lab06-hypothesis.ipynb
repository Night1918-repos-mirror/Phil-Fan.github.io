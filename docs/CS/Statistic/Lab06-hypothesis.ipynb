{
 "cells": [
  {
   "cell_type": "markdown",
   "metadata": {},
   "source": [
    "# 假设检验例题\n",
    "\n",
    "A和B测量同一批样品，A声称自己的仪器精度更高(误差更小)，问该声明是否为真？在什么情况下该假设为假？\n",
    "\n",
    "设A的标准差$\\sigma_1$,B的标准差$\\sigma_2$\n",
    "\n",
    "$$\n",
    "H_0: \\frac{\\sigma_1^2}{\\sigma_2^2} <1\n",
    "$$\n",
    "\n",
    "$$\n",
    "P(\\frac{\\bar{\\sigma_1}}{\\bar{\\sigma_2}} > 1) \\le \\alpha = 0.05\n",
    "$$\n",
    "\n",
    "$$\n",
    "\\frac{S_1^2}{S_2^2} / \\frac{\\sigma_1^2}{\\sigma_2^2} \\sim F\\left(n_1-1, n_2-1\\right) = F\\left(4, 4\\right)\n",
    "$$\n",
    "\n",
    "拒绝域 $F > F_{\\alpha}(n_1-1,n_2-1)$\n"
   ]
  },
  {
   "cell_type": "code",
   "execution_count": 5,
   "metadata": {},
   "outputs": [
    {
     "data": {
      "text/plain": [
       "<Axes: >"
      ]
     },
     "execution_count": 5,
     "metadata": {},
     "output_type": "execute_result"
    },
    {
     "data": {
      "image/png": "[encoded data removed]",
      "text/plain": [
       "<Figure size 640x480 with 2 Axes>"
      ]
     },
     "metadata": {},
     "output_type": "display_data"
    }
   ],
   "source": [
    "import seaborn as sns\n",
    "import matplotlib.pyplot as plt\n",
    "\n",
    "A=[118.5, 120.5, 120.4, 121.8, 121.1]\n",
    "B=[117.2, 119.3, 122.2, 118.3, 120.7]\n",
    "fig,ax = plt.subplots(2,1,sharex=True)\n",
    "\n",
    "sns.stripplot(x=A,jitter=0.3,ax=ax[0],color='red')\n",
    "sns.stripplot(x=B,jitter=0.3,ax=ax[0],color='blue')\n",
    "sns.pointplot(x=A,capsize=0.3,errorbar=('se',1),ax=ax[1],color='red')\n",
    "sns.pointplot(x=B,capsize=0.3,errorbar=('se',1),ax=ax[1],color='blue')"
   ]
  },
  {
   "cell_type": "code",
   "execution_count": 15,
   "metadata": {},
   "outputs": [
    {
     "name": "stdout",
     "output_type": "stream",
     "text": [
      "S^2_A =  1.5129999999999963\n",
      "S^2_B =  3.873000000000004\n",
      "F =  0.39065324038213134\n",
      "拒绝域 6.388232908695868\n"
     ]
    }
   ],
   "source": [
    "import numpy as np\n",
    "var_a = np.var(A,ddof=1)\n",
    "var_b = np.var(B,ddof=1)\n",
    "print(\"S^2_A = \",var_a)\n",
    "print(\"S^2_B = \",var_b)\n",
    "print(\"F = \", var_a/var_b)\n",
    "\n",
    "import scipy.stats as st \n",
    "rv = st.f(4,4)\n",
    "print(\"拒绝域\",rv.ppf(0.95))"
   ]
  },
  {
   "cell_type": "markdown",
   "metadata": {},
   "source": [
    "由结果可知，在$H_0$假设下，$F = 0.39065324038213134<6.388232908695868$\n",
    "\n",
    "所以接受原假设\n",
    "\n",
    "\n",
    "如果$\\overline{F} = \\frac{S_A^2}{S_B^2}>6.39$，则拒绝假设"
   ]
  }
 ],
 "metadata": {
  "kernelspec": {
   "display_name": "notebook",
   "language": "python",
   "name": "python3"
  },
  "language_info": {
   "codemirror_mode": {
    "name": "ipython",
    "version": 3
   },
   "file_extension": ".py",
   "mimetype": "text/x-python",
   "name": "python",
   "nbconvert_exporter": "python",
   "pygments_lexer": "ipython3",
   "version": "3.12.4"
  }
 },
 "nbformat": 4,
 "nbformat_minor": 2
}
