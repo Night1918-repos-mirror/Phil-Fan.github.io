{
 "cells": [
  {
   "cell_type": "markdown",
   "metadata": {},
   "source": [
    "# 特殊函数"
   ]
  },
  {
   "cell_type": "markdown",
   "metadata": {},
   "source": [
    "## 大数定律与中心极限定理\n",
    "\n",
    "**切比雪夫不等式**：\n",
    "\n",
    "设随机变量X的数学期望和方差存在，分别记为$\\mu$,$\\sigma^2$，则对任意的$\\varepsilon>0$​, 有\n",
    "\t\n",
    "$$\n",
    "P\\{|X-\\mu|\\ge \\varepsilon\\}\\le\\frac{\\sigma^2}{\\varepsilon^2}\n",
    "$$\n",
    "\n",
    "**辛钦大数定律：**\n",
    "\n",
    "设$\\{X_i,i\\ge1\\}$​为独立同分布的随机变量序列，且数学期望存在，记为$\\mu$​，则对任意的$\\varepsilon>0$​，有\n",
    "\t\n",
    "$$\n",
    "\\lim\\limits_{n\\rightarrow+\\infty}P\\{|\\frac{1}{n}\\sum\\limits_{i=1}^nX_i-\\mu|\\ge\\varepsilon\\}=0\n",
    "$$\n",
    "\n",
    "**辛钦大数定律推论：**\n",
    "\n",
    "设$\\{X_i,i>=1\\}$为独立同分布的随机变量序列，若$h(x)$为一连续函数，且$E(h(X_i))<+\\infty$，则对任意的$\\varepsilon>0$,有\n",
    "\t\n",
    "$$\n",
    "\\lim\\limits_{n\\rightarrow+\\infty}P\\{|\\frac{1}{n}\\sum\\limits_{i=1}^nh(X_i)-a|\\ge\\varepsilon\\}=0\t\n",
    "$$\n",
    "\n",
    "其中$a=E(h(X_i))$"
   ]
  },
  {
   "cell_type": "markdown",
   "metadata": {},
   "source": [
    "## 三大分布\n",
    "\n",
    "### （一）$\\chi^2$分布：\n",
    "\n",
    "设$X_1,X_2,\\ldots,X_n$为独立同分布的随机变量，且都服从标准正态分布$N(0,1)$\n",
    "\n",
    "记：\n",
    "\n",
    "$$\n",
    "Y=X_1^2+X_2^2+\\ldots+X_n^2\n",
    "$$\n",
    "\n",
    "则称$Y$服从自由度为n的$\\chi^2$分布，记为$Y\\sim\\chi^2(n)$\n",
    "\n",
    "** $\\chi^2$ 分布的性质**\n",
    "\n",
    "1. $\\chi^2(2)=E(\\frac{1}{2})$\n",
    "2. 可加性：设$Y_1\\sim\\chi^2(m),Y_2\\sim\\chi^2(n)$，若两者相互独立，则$Y_1+Y_2\\sim\\chi^2(m+n)$\n",
    "3. $E(\\chi^2(m))=m$,$Var(\\chi^2(m))=2m$"
   ]
  },
  {
   "cell_type": "markdown",
   "metadata": {},
   "source": [
    "### （二）$t$分布：\n",
    "\n",
    "设$X\\sim N(0,1),Y\\sim\\chi^2(m)$，且$X,Y$相互独立\n",
    "\n",
    "记：\n",
    "\n",
    "$$\n",
    "t=\\frac{X}{\\sqrt{Y/m}}\n",
    "$$\n",
    "\n",
    "则称$t$服从自由度为n的$t$分布，记为$t\\sim t(n)$\n",
    "\n",
    "**$t$分布的性质**\n",
    "\n",
    "1. $f_t(x)=f_t(-x)$\n",
    "2. $\\lim\\limits_{n\\rightarrow+\\infty}f_t(x)=\\frac{1}{\\sqrt{2\\pi}}e^{-\\frac{x^2}{2}}$\n"
   ]
  },
  {
   "cell_type": "markdown",
   "metadata": {},
   "source": [
    "### （三）$F$分布：\n",
    "\n",
    "设$U\\sim\\chi^2(n_1),V\\sim\\chi^2(n_2)$，且$U,V$相互独立，则称随机变量\n",
    "\n",
    "$$\n",
    "F=\\frac{U/n1}{V/n2}\n",
    "$$\n",
    "\n",
    "服从第一自由度为$n_1$，第二自由度为$n_2$的$F$分布，记为$F\\sim F(n1,n2)$\n",
    "\n",
    "**$F$分布有如下性质：**\n",
    "\n",
    "1. 若$F\\sim F(n1,n2)$，则$1/{F}\\sim F(n2,n1)$\t\n",
    "2. 若$X\\sim t(n)$，则$X^2\\sim F(1,n)$\n",
    "3. $F_{1-\\alpha}(n1,n2)=\\frac{1}{F_\\alpha(n2,n1)}$"
   ]
  },
  {
   "cell_type": "markdown",
   "metadata": {},
   "source": [
    "## 四大抽样分布定理\n",
    "\n",
    "### （一） \n",
    "\n",
    "​\t设$X_1,X_2,\\ldots,X_n$是来自正态分布总体$N(\\mu,\\sigma^2)$的简单随机样本，$\\bar X$是样本均值，$S^2$​是样本方差，则\n",
    "\n",
    "1. $\\frac{(n-1)S^2}{\\sigma^2}\\sim\\chi^2(n-1)$\n",
    "\n",
    "2. $\\bar X与S^2$​相互独立  \n",
    "\n",
    "3. $\\frac{\\bar X-\\mu}{S/\\sqrt{n}}\\sim t(n-1)$\n",
    "\n",
    "### （二）\n",
    "\n",
    "​设$X_1,X_2,\\ldots,X_{n1}$是来自正态分布总体$N_1(\\mu_1,\\sigma^2_1)$的简单随机样本,$Y_1,Y_2,\\ldots,Y_{n2}$是来自正态分布总体$N_2(\\mu_2,\\sigma^2_2)$的简单随机样本,样本相互独立$\\bar X,\\bar Y$是样本均值，$S_1^2,S_2^2$​是样本方差，则\n",
    "\n",
    " 1. $\\frac{S^2_1/\\sigma^2_1}{S_2^2/\\sigma^2_2}\\sim F(n1,n2)$\n",
    "\n",
    " 2. 若$\\sigma_1^2=\\sigma_2^2=\\sigma^2$,\n",
    " \n",
    "    $$\n",
    "    \\frac{(\\bar X-\\bar Y)-(\\mu_1-\\mu_2) }{S_w\\sqrt{\\frac{1}{n_1}+\\frac{1}{n_2}}}\n",
    "    $$\n",
    "    \n",
    "    其中\t\n",
    "    \n",
    "    $$\n",
    "    S^2_w=\\frac{(n_1-1)S^2_1+(n_2-1)S_2^2}{n_1+n_2-2}\n",
    "    $$\n",
    "    "
   ]
  }
 ],
 "metadata": {
  "kernelspec": {
   "display_name": "Python 3",
   "language": "python",
   "name": "python3"
  },
  "language_info": {
   "name": "python",
   "version": "3.12.4"
  }
 },
 "nbformat": 4,
 "nbformat_minor": 2
}
