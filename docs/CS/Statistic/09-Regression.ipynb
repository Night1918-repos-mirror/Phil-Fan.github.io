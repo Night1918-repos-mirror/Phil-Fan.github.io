{
 "cells": [
  {
   "cell_type": "markdown",
   "metadata": {},
   "source": [
    "# 回归"
   ]
  },
  {
   "cell_type": "markdown",
   "metadata": {},
   "source": [
    "## 均值回归\n",
    "希望Y的预测值与测量值偏差越小越好,对于n个测量\n",
    "\n",
    "$$\n",
    "Q = \\sum (Y_i - (b_0+b_1X_i))^2\n",
    "$$\n",
    "\n",
    "最小化Q,最小二乘法\n",
    "\n",
    "将回归函数的表达式改写为\n",
    "\n",
    "$$\n",
    "Y = \\beta_0 + \\beta_1 (X-\\bar{X})\n",
    "$$\n",
    "\n",
    "上式被称为模型的中心化\n",
    "\n",
    "$$\n",
    "Q = \\sum [Y_i - (\\beta_0+\\beta_1(X_i-\\bar{X}))]^2\n",
    "$$\n",
    "\n",
    "对\n",
    "和\n",
    "求偏导\n",
    "\n",
    "$$\n",
    "\\frac{\\partial Q}{\\partial \\beta_0} = -2 \\sum [Y_i-\\beta_0-\\beta_1(X_i-\\bar{X})] =0\\\\\n",
    "\\frac{\\partial Q}{\\partial \\beta_1} = -2 \\sum [Y_i-\\beta_0-\\beta_1(X_i-\\bar{X})](X_i-\\bar{X}) =0\\\\\n",
    "$$\n",
    "\n",
    "\n",
    " \n",
    " \n",
    "得到\n",
    "\n",
    "$$\n",
    "\\hat{\\beta_0} = \\sum Y_i/n = \\bar{Y}\\\\\n",
    "\\hat{\\beta_1} = \\frac{\\sum (X_i -\\bar{X})Y_i}{S^2_X}\\\\\n",
    "$$\n",
    "\n",
    "\n",
    "$\\hat{\\beta}_0, \\hat{\\beta}_1$ 均为 $Y_i$ 的线性函数\n",
    "\n",
    "- $\\hat{\\beta}_0, \\hat{\\beta}_1$ 是 $\\beta_0, \\beta_1$ 的无偏估计\n",
    "\n",
    "$$\n",
    "\\begin{aligned}\n",
    "\\text{var}(\\hat{\\beta}_0) &= \\text{var}(\\bar{Y}) = \\frac{\\sigma^2}{n}\\\\\n",
    "\\text{var}(\\hat{\\beta}_1) &= \\text{var}\\left( \\frac{\\sum (X_i - \\bar{X})Y_i}{S_X^2} \\right)\\\\\n",
    "&= \\sum \\left( \\frac{(X_i - \\bar{X})^2}{S_X^2} \\right) \\text{var}(Y_i)\\\\\n",
    "&= \\frac{\\text{var}(Y_i)}{S_X^2} = \\frac{\\sigma^2}{S_X^2}\n",
    "\\end{aligned}\n",
    "$$\n",
    "\n",
    "- 截距 $\\beta_0$ 的方差由测量数据的样本决定\n",
    "- $\\beta_1$ 的方差由 $S_X^2$ 决定，$X$ 的点取得越紧密，方差越大，应尽量取分散的点\n",
    "- 可以证明，$\\beta_0$ 和 $\\beta_1$ 的协方差 $\\text{cov}(\\beta_0, \\beta_1) = 0$\n",
    "\n",
    "$$\n",
    "\\begin{aligned}\n",
    "Y &= \\beta_0 + \\beta_1 (X - \\bar{X})\\\\  \n",
    "b_0 &= \\beta_0 - \\beta_1 \\bar{X}\\\\\n",
    "b_1 &= \\beta_1\\\\\n",
    "\\text{var}(b_0) &= \\text{var}(\\beta_0) + \\bar{X}^2 \\text{var}(\\beta_1)\\\\\n",
    "\\text{var}(b_1) &= \\text{var}(\\beta_1)\\\\\n",
    "\\end{aligned}\n",
    "$$\n",
    "\n",
    "$\\beta_0$ 和 $\\beta_1$ 互相独立，而 $b_0$ 和 $b_1$ 不独立\n",
    "\n",
    "\n",
    "\n"
   ]
  },
  {
   "cell_type": "markdown",
   "metadata": {},
   "source": [
    "## 残差估计"
   ]
  },
  {
   "cell_type": "code",
   "execution_count": 1,
   "metadata": {},
   "outputs": [],
   "source": [
    "import scipy.stats as st\n",
    "import numpy as np\n",
    "import seaborn as sns\n",
    "import matplotlib.pyplot as plt\n",
    "\n",
    "a=3\n",
    "b=4\n",
    "x=st.uniform(0,10).rvs(20)\n",
    "y=[np.random.normal(a*i+b,5) for i in x]\n",
    "\n",
    "sns.regplot(x=x, y=y, ci=95)"
   ]
  }
 ],
 "metadata": {
  "kernelspec": {
   "display_name": "notebook",
   "language": "python",
   "name": "python3"
  },
  "language_info": {
   "codemirror_mode": {
    "name": "ipython",
    "version": 3
   },
   "file_extension": ".py",
   "mimetype": "text/x-python",
   "name": "python",
   "nbconvert_exporter": "python",
   "pygments_lexer": "ipython3",
   "version": "3.12.4"
  }
 },
 "nbformat": 4,
 "nbformat_minor": 2
}
