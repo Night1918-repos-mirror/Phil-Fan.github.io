{
 "cells": [
  {
   "cell_type": "markdown",
   "metadata": {},
   "source": [
    "# 误差\n",
    "[【知识仓库】误差分析（一）何为误差 - 知乎](https://zhuanlan.zhihu.com/p/617547866)\n",
    "\n",
    "\n",
    "[【知识仓库】误差分析（三）误差传递 - 知乎](https://zhuanlan.zhihu.com/p/617554206)"
   ]
  }
 ],
 "metadata": {
  "language_info": {
   "name": "python"
  }
 },
 "nbformat": 4,
 "nbformat_minor": 2
}
