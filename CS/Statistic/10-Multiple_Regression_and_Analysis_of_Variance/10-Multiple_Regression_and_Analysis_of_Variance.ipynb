{
 "cells": [
  {
   "cell_type": "markdown",
   "metadata": {},
   "source": [
    "# 多元回归分析"
   ]
  },
  {
   "cell_type": "markdown",
   "metadata": {},
   "source": [
    "\n",
    "多元线性回归模型表示为：\n",
    "$$ f(x_i) = \\mathbf{w}^T \\mathbf{x}_i + b $$\n",
    "其中，$\\mathbf{w}$ 是权重向量，$b$ 是偏置项，$\\mathbf{x}_i$ 是输入向量，$f(x_i)$ 是预测值。\n",
    "\n",
    "### 参数估计\n",
    "为了估计 $\\mathbf{w}$ 和 $b$，可以使用最小二乘法。将 $\\mathbf{w}$ 和 $b$ 合并为向量形式 $\\hat{\\mathbf{w}} = (\\mathbf{w}; b)$，数据集 $D$ 表示为矩阵 $\\mathbf{X}$，其中每行对应一个样本，前 $d$ 个元素对应样本的 $d$ 个属性值，最后一个元素恒定为 1。\n",
    "\n",
    "$$ \n",
    "\\mathbf{X} = \\begin{pmatrix}\n",
    "x_{11} & x_{12} & \\ldots & x_{1d} & 1 \\\\\n",
    "x_{21} & x_{22} & \\ldots & x_{2d} & 1 \\\\\n",
    "\\vdots & \\vdots & \\ddots & \\vdots & \\vdots \\\\\n",
    "x_{m1} & x_{m2} & \\ldots & x_{md} & 1 \\\\\n",
    "\\end{pmatrix} = \\begin{pmatrix}\n",
    "\\mathbf{x}_1^T & 1 \\\\\n",
    "\\mathbf{x}_2^T & 1 \\\\\n",
    "\\vdots & \\vdots \\\\\n",
    "\\mathbf{x}_m^T & 1 \\\\\n",
    "\\end{pmatrix} \n",
    "$$\n",
    "\n",
    "标记向量 $\\mathbf{y} = (y_1; y_2; \\ldots; y_m)$，则目标函数为：\n",
    "\n",
    "$$\n",
    "\\hat{\\mathbf{w}}^* = \\arg \\min_{\\hat{\\mathbf{w}}} (\\mathbf{y} - \\mathbf{X}\\hat{\\mathbf{w}})^T (\\mathbf{y} - \\mathbf{X}\\hat{\\mathbf{w}})\n",
    "$$\n",
    "\n",
    "令 $E_{\\hat{\\mathbf{w}}} = (\\mathbf{y} - \\mathbf{X}\\hat{\\mathbf{w}})^T (\\mathbf{y} - \\mathbf{X}\\hat{\\mathbf{w}})$，对 $\\hat{\\mathbf{w}}$ 求导并令其为零，得到最优解的形式：\n",
    "\n",
    "$$\n",
    "\\frac{\\partial E_{\\hat{\\mathbf{w}}}}{\\partial \\hat{\\mathbf{w}}} = 2 \\mathbf{X}^T (\\mathbf{X}\\hat{\\mathbf{w}} - \\mathbf{y}) = 0\n",
    "$$\n",
    "\n",
    "当 $\\mathbf{X}^T \\mathbf{X}$ 为满秩矩阵（full-rank matrix）或正定矩阵（positive definite matrix）时，可得：\n",
    "\n",
    "$$\n",
    "\\hat{\\mathbf{w}}^* = (\\mathbf{X}^T \\mathbf{X})^{-1} \\mathbf{X}^T \\mathbf{y}\n",
    "$$"
   ]
  }
 ],
 "metadata": {
  "language_info": {
   "name": "python"
  }
 },
 "nbformat": 4,
 "nbformat_minor": 2
}
