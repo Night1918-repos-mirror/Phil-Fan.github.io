{
 "cells": [
  {
   "cell_type": "markdown",
   "metadata": {},
   "source": [
    "# 多元回归分析"
   ]
  },
  {
   "cell_type": "markdown",
   "metadata": {},
   "source": [
    "\n",
    "多元线性回归模型表示为：\n",
    "$$ f(x_i) = \\mathbf{w}^T \\mathbf{x}_i + b $$\n",
    "其中，$\\mathbf{w}$ 是权重向量，$b$ 是偏置项，$\\mathbf{x}_i$ 是输入向量，$f(x_i)$ 是预测值。\n",
    "\n",
    "### 参数估计\n",
    "为了估计 $\\mathbf{w}$ 和 $b$，可以使用最小二乘法。将 $\\mathbf{w}$ 和 $b$ 合并为向量形式 $\\hat{\\mathbf{w}} = (\\mathbf{w}; b)$，数据集 $D$ 表示为矩阵 $\\mathbf{X}$，其中每行对应一个样本，前 $d$ 个元素对应样本的 $d$ 个属性值，最后一个元素恒定为 1。\n",
    "\n",
    "$$ \n",
    "\\mathbf{X} = \\begin{pmatrix}\n",
    "x_{11} & x_{12} & \\ldots & x_{1d} & 1 \\\\\n",
    "x_{21} & x_{22} & \\ldots & x_{2d} & 1 \\\\\n",
    "\\vdots & \\vdots & \\ddots & \\vdots & \\vdots \\\\\n",
    "x_{m1} & x_{m2} & \\ldots & x_{md} & 1 \\\\\n",
    "\\end{pmatrix} = \\begin{pmatrix}\n",
    "\\mathbf{x}_1^T & 1 \\\\\n",
    "\\mathbf{x}_2^T & 1 \\\\\n",
    "\\vdots & \\vdots \\\\\n",
    "\\mathbf{x}_m^T & 1 \\\\\n",
    "\\end{pmatrix} \n",
    "$$\n",
    "\n",
    "标记向量 $\\mathbf{y} = (y_1; y_2; \\ldots; y_m)$，则目标函数为：\n",
    "\n",
    "$$\n",
    "\\hat{\\mathbf{w}}^* = \\arg \\min_{\\hat{\\mathbf{w}}} (\\mathbf{y} - \\mathbf{X}\\hat{\\mathbf{w}})^T (\\mathbf{y} - \\mathbf{X}\\hat{\\mathbf{w}})\n",
    "$$\n",
    "\n",
    "令 $E_{\\hat{\\mathbf{w}}} = (\\mathbf{y} - \\mathbf{X}\\hat{\\mathbf{w}})^T (\\mathbf{y} - \\mathbf{X}\\hat{\\mathbf{w}})$，对 $\\hat{\\mathbf{w}}$ 求导并令其为零，得到最优解的形式：\n",
    "\n",
    "$$\n",
    "\\frac{\\partial E_{\\hat{\\mathbf{w}}}}{\\partial \\hat{\\mathbf{w}}} = 2 \\mathbf{X}^T (\\mathbf{X}\\hat{\\mathbf{w}} - \\mathbf{y}) = 0\n",
    "$$\n",
    "\n",
    "当 $\\mathbf{X}^T \\mathbf{X}$ 为满秩矩阵（full-rank matrix）或正定矩阵（positive definite matrix）时，可得：\n",
    "\n",
    "$$\n",
    "\\hat{\\mathbf{w}}^* = (\\mathbf{X}^T \\mathbf{X})^{-1} \\mathbf{X}^T \\mathbf{y}\n",
    "$$\n",
    "\n",
    "\n",
    "$L=(X^TX)$,$\\sigma^2 L^{-1}$是$\\hat{\\mathbf{w}}$的协方差矩阵\n",
    "\n",
    "有\n",
    "- $\\text{Var}(\\beta_0) = \\sigma^2/n$\n",
    "- $\\text{Var}(\\beta_i) = \\sigma^2 L^{-1}_{ii}$\n",
    "- $\\text{Var}(\\beta_0,\\beta_j)=0$\n",
    "- $\\text{Var}(\\beta_i,\\beta_j) = \\sigma^2 L^{-1}_{ij}$\n",
    "\n",
    "\n",
    "$\\sigma^2$的估计仍然可以用残差估计\n",
    "\n",
    "$$\n",
    "\\begin{aligned}\n",
    "\\delta^2 = (Y - X\\beta)^\\intercal (Y-X\\beta)\\\\\n",
    "\\hat \\sigma^2 =\\delta^2/(n-p-1)\\\\\n",
    "\\delta^2/\\sigma^2 \\sim \\chi^2_{n-p-1}\n",
    "\\end{aligned}\n",
    "$$\n"
   ]
  },
  {
   "cell_type": "markdown",
   "metadata": {},
   "source": []
  },
  {
   "cell_type": "code",
   "execution_count": 3,
   "metadata": {},
   "outputs": [
    {
     "name": "stdout",
     "output_type": "stream",
     "text": [
      "nan 5.991464547107979\n"
     ]
    }
   ],
   "source": [
    "import scipy.stats as st\n",
    "import numpy as np\n",
    "import seaborn as sns\n",
    "import matplotlib.pyplot as plt\n",
    "from scipy.stats import linregress\n",
    "n=2\n",
    "fa=n/2/(n-1)\n",
    "a=st.f(2,n-2).ppf(0.95)/fa\n",
    "achi=st.chi2(2).ppf(0.95)\n",
    "\n",
    "print(a,achi)"
   ]
  },
  {
   "cell_type": "markdown",
   "metadata": {},
   "source": [
    "两个变量的时候，通常检验$\\beta_1$和$\\beta_2$的计算表达式是否小于 5.99\n",
    "\n",
    "\n",
    "$f(x)$的区间比$f(x_i)$更宽泛\n",
    "\n"
   ]
  }
 ],
 "metadata": {
  "kernelspec": {
   "display_name": "notebook",
   "language": "python",
   "name": "python3"
  },
  "language_info": {
   "codemirror_mode": {
    "name": "ipython",
    "version": 3
   },
   "file_extension": ".py",
   "mimetype": "text/x-python",
   "name": "python",
   "nbconvert_exporter": "python",
   "pygments_lexer": "ipython3",
   "version": "3.12.4"
  }
 },
 "nbformat": 4,
 "nbformat_minor": 2
}
